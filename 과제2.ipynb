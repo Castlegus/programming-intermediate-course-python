{
 "cells": [
  {
   "cell_type": "code",
   "execution_count": 6,
   "metadata": {},
   "outputs": [
    {
     "name": "stdout",
     "output_type": "stream",
     "text": [
      "입력하는 학생 수가 총 몇 명인가요?:3\n",
      "학생의 이름과 시험 점수를 차례대로 입력하세요!\n",
      "1 번째 학생 =====\n",
      "* 이름:안나\n",
      "* 점수:95\n",
      "2 번째 학생 =====\n",
      "* 이름:신후\n",
      "* 점수:92\n",
      "3 번째 학생 =====\n",
      "* 이름:지희\n",
      "* 점수:88\n",
      "어떤 학생의 점수가 궁금하신가요? 이름을 입력하세요. : 인석\n",
      "찾는 학생( 인석 )의 점수가 존재하지 않습니다.\n",
      "어떤 학생의 점수가 궁금하신가요? 이름을 입력하세요. : 안나\n",
      "안나 학생의 점수 :  95\n",
      "프로그램을 종료합니다.\n"
     ]
    }
   ],
   "source": [
    "count = int(input('입력하는 학생 수가 총 몇 명인가요?:'))\n",
    "print('학생의 이름과 시험 점수를 차례대로 입력하세요!')\n",
    "scores = list()\n",
    "num = 1\n",
    "# 이름 및 점수 입력\n",
    "while num <= count:\n",
    "    print(num, '번째 학생 =====')\n",
    "    name = input('* 이름:')\n",
    "    score = input('* 점수:')\n",
    "    scores.append([name,score])\n",
    "    num += 1\n",
    "    \n",
    "# 딕셔너리로 타입 전환\n",
    "scores_dict = dict(scores)\n",
    "# 학생 이름 및 점수 출력\n",
    "flag = True\n",
    "while flag:\n",
    "    wanted = input('어떤 학생의 점수가 궁금하신가요? 이름을 입력하세요. : ')\n",
    "    if wanted in scores_dict:\n",
    "        print(wanted, '학생의 점수 : ', scores_dict[wanted])\n",
    "        flag = False\n",
    "        print('프로그램을 종료합니다.')\n",
    "    else:\n",
    "        print('찾는 학생(', wanted, ')의 점수가 존재하지 않습니다.')"
   ]
  },
  {
   "cell_type": "markdown",
   "metadata": {},
   "source": []
  }
 ],
 "metadata": {
  "kernelspec": {
   "display_name": "Python 3",
   "language": "python",
   "name": "python3"
  },
  "language_info": {
   "codemirror_mode": {
    "name": "ipython",
    "version": 3
   },
   "file_extension": ".py",
   "mimetype": "text/x-python",
   "name": "python",
   "nbconvert_exporter": "python",
   "pygments_lexer": "ipython3",
   "version": "3.7.6"
  }
 },
 "nbformat": 4,
 "nbformat_minor": 4
}
