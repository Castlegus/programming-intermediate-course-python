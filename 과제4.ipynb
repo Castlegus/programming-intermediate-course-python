{
 "cells": [
  {
   "cell_type": "code",
   "execution_count": 26,
   "metadata": {},
   "outputs": [
    {
     "name": "stdout",
     "output_type": "stream",
     "text": [
      "빠 삐 빠 빠 빠 빠 빠 빠 빠 빠 빠 빠 빠 빠 빠 빠 삐 빠 빠 빠 빠 빠 빠 삐 빠 빠 빠 빠 빠 삐 빠 빠 빠 빠 빠 빠 빠 빠 삐\n"
     ]
    }
   ],
   "source": [
    "f = open('replace.txt','r')\n",
    "line = f.readline()\n",
    "print(line)\n",
    "f.close()"
   ]
  },
  {
   "cell_type": "code",
   "execution_count": 31,
   "metadata": {},
   "outputs": [],
   "source": [
    "revised_line = line.replace('삐','빠')"
   ]
  },
  {
   "cell_type": "code",
   "execution_count": 34,
   "metadata": {},
   "outputs": [
    {
     "data": {
      "text/plain": [
       "str"
      ]
     },
     "execution_count": 34,
     "metadata": {},
     "output_type": "execute_result"
    }
   ],
   "source": [
    "type(revised_line)"
   ]
  },
  {
   "cell_type": "code",
   "execution_count": 35,
   "metadata": {},
   "outputs": [
    {
     "name": "stdout",
     "output_type": "stream",
     "text": [
      "빠 빠 빠 빠 빠 빠 빠 빠 빠 빠 빠 빠 빠 빠 빠 빠 빠 빠 빠 빠 빠 빠 빠 빠 빠 빠 빠 빠 빠 빠 빠 빠 빠 빠 빠 빠 빠 빠 빠\n"
     ]
    }
   ],
   "source": [
    "f = open('replace.txt','w')\n",
    "f.write(revised_line)\n",
    "print(revised_line)\n",
    "f.close()"
   ]
  },
  {
   "cell_type": "code",
   "execution_count": null,
   "metadata": {},
   "outputs": [],
   "source": []
  }
 ],
 "metadata": {
  "kernelspec": {
   "display_name": "Python 3",
   "language": "python",
   "name": "python3"
  },
  "language_info": {
   "codemirror_mode": {
    "name": "ipython",
    "version": 3
   },
   "file_extension": ".py",
   "mimetype": "text/x-python",
   "name": "python",
   "nbconvert_exporter": "python",
   "pygments_lexer": "ipython3",
   "version": "3.7.6"
  }
 },
 "nbformat": 4,
 "nbformat_minor": 4
}
